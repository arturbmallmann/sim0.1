{
 "cells": [
  {
   "cell_type": "markdown",
   "metadata": {},
   "source": [
    "<h1>Trabalho de Modelagem e Simulação</h1>\n",
    "<p style='font-size: 20px'>Aluno: Artur Bernardo Mallmann</p>\n",
    "Importa classe de"
   ]
  },
  {
   "cell_type": "code",
   "execution_count": 1,
   "metadata": {},
   "outputs": [],
   "source": [
    "from abc import ABCMeta, abstractmethod, abstractproperty\n",
    "# class IGen:\n",
    "#     __metaclass__ = ABCMeta"
   ]
  },
  {
   "cell_type": "markdown",
   "metadata": {},
   "source": [
    "<h2>Classe para ler CSVs</h2>"
   ]
  },
  {
   "cell_type": "code",
   "execution_count": 23,
   "metadata": {},
   "outputs": [],
   "source": [
    "class MyCSVs:\n",
    "    def __init__(self,file_name,):\n",
    "        classes = 8\n",
    "        myf = open(file_name,'r')\n",
    "        linhas = [l.replace('\\n','') for l in myf.readlines() if len(l)>1 and l.strip()[0]!='#']\n",
    "        myf.close()\n",
    "        self.entradas = [col.strip() for col in linhas[0].split(',')]\n",
    "        self.amostras = dict()\n",
    "        [self.amostras.update({en:[]}) for en in self.entradas]\n",
    "        for l in [l.split(',') for l in linhas[1:]]:\n",
    "            for am,col in zip(self.entradas,l):\n",
    "                try:\n",
    "                    col = int(col)\n",
    "                except:\n",
    "                    # string então\n",
    "                    col = col.strip()\n",
    "                self.amostras[am].append(col)\n",
    "        print(self.amostras)\n",
    "    def get_col(self,col):\n",
    "        return self.amostras[col]\n",
    "    def get_names(self):\n",
    "        return self.entradas"
   ]
  },
  {
   "cell_type": "code",
   "execution_count": 22,
   "metadata": {},
   "outputs": [
    {
     "name": "stdout",
     "output_type": "stream",
     "text": [
      "{'chegada': [3, 5, 8, 9, 11, 12, 14, 17, 18, 21], 'ficha': [7, 11, 8, 7, 12, 10, 9, 8, 10, 7], 'atendimento': [23, 15, 18, 17, 22, 25, 21, 22, 16, 20], 'pagamento': [4, 4, 2, 3, 2, 4, 3, 4, 3, 2]}\n"
     ]
    }
   ],
   "source": [
    "arquivo = MyCSVs('entradas.csv')"
   ]
  },
  {
   "cell_type": "markdown",
   "metadata": {},
   "source": [
    "<h2>Gerar Valores por monte Carlo</h2>\n",
    "Caso queiramos gerar valores baseado em tempos de chegada amostrados em um CSV, basta passá-lo por por parâmetro"
   ]
  },
  {
   "cell_type": "code",
   "execution_count": 13,
   "metadata": {},
   "outputs": [],
   "source": [
    "from montecarlo import MonteCarlo\n",
    "classes = 8 # tipos de amostras diferentes"
   ]
  },
  {
   "cell_type": "code",
   "execution_count": 14,
   "metadata": {},
   "outputs": [
    {
     "name": "stderr",
     "output_type": "stream",
     "text": [
      "2.25\n",
      "classes: 8\n",
      "delta: 2.25\n",
      "increment: [0, 0, 2, 2, 3, 4, 4, 6, 6, 7]\n",
      "freq:[0.2, 0.2, 0.4, 0.5, 0.7, 0.7, 0.8999999999999999, 0.9999999999999999]\n",
      "pms:[4.125, 6.375, 8.625, 10.875, 13.125, 15.375, 17.625, 19.875]\n",
      "0.625\n",
      "classes: 8\n",
      "delta: 0.625\n",
      "increment: [0, 6, 1, 0, 7, 4, 3, 1, 4, 0]\n",
      "freq:[0.3, 0.5, 0.5, 0.6, 0.8, 0.8, 0.9, 1.0]\n",
      "pms:[7.3125, 7.9375, 8.5625, 9.1875, 9.8125, 10.4375, 11.0625, 11.6875]\n",
      "1.25\n",
      "classes: 8\n",
      "delta: 1.25\n",
      "increment: [6, 0, 2, 1, 5, 7, 4, 5, 0, 4]\n",
      "freq:[0.2, 0.30000000000000004, 0.4, 0.4, 0.6000000000000001, 0.8, 0.9, 1.0]\n",
      "pms:[15.625, 16.875, 18.125, 19.375, 20.625, 21.875, 23.125, 24.375]\n",
      "0.25\n",
      "classes: 8\n",
      "delta: 0.25\n",
      "increment: [7, 7, 0, 4, 0, 7, 4, 7, 4, 0]\n",
      "freq:[0.3, 0.3, 0.3, 0.3, 0.6, 0.6, 0.6, 1.0]\n",
      "pms:[2.125, 2.375, 2.625, 2.875, 3.125, 3.375, 3.625, 3.875]\n"
     ]
    },
    {
     "data": {
      "text/plain": [
       "[None, None, None, None]"
      ]
     },
     "execution_count": 14,
     "metadata": {},
     "output_type": "execute_result"
    }
   ],
   "source": [
    "#mcs é objeto de uma das classes que gera amostras, que tbm pode ser geradores aleatórios quaisquer\n",
    "mcs = dict()\n",
    "[mcs.update({en:MonteCarlo(classes,arquivo.get_col(en))}) for en in arquivo.get_names()]"
   ]
  },
  {
   "cell_type": "code",
   "execution_count": 15,
   "metadata": {},
   "outputs": [
    {
     "name": "stderr",
     "output_type": "stream",
     "text": [
      "0.9\n",
      "classes: 10\n",
      "delta: 0.9\n",
      "increment: [0, 1, 2, 9]\n",
      "freq:[0.25, 0.5, 0.75, 0.75, 0.75, 0.75, 0.75, 0.75, 0.75, 1.0]\n",
      "pms:[1.45, 2.35, 3.25, 4.15, 5.05, 5.95, 6.8500000000000005, 7.75, 8.649999999999999, 9.549999999999999]\n"
     ]
    }
   ],
   "source": [
    "mc = MonteCarlo(10,[1,2,3,10])\n",
    "# MonteCarlo.__str__ = lambda self:f'{self.get_rand()}'"
   ]
  },
  {
   "cell_type": "code",
   "execution_count": 33,
   "metadata": {},
   "outputs": [
    {
     "name": "stdout",
     "output_type": "stream",
     "text": [
      "13.125\n"
     ]
    }
   ],
   "source": [
    "print(mcs['chegada'].get_rand())"
   ]
  },
  {
   "cell_type": "code",
   "execution_count": 20,
   "metadata": {},
   "outputs": [
    {
     "name": "stdout",
     "output_type": "stream",
     "text": [
      " a asd asd \n",
      "a asd asd\n"
     ]
    }
   ],
   "source": []
  },
  {
   "cell_type": "markdown",
   "metadata": {},
   "source": [
    "<h2>Replay: Ressimular baseado em um CSV</h2>\n",
    "Caso queira rever uma simulação específica basta passar o CSV por parâmetro."
   ]
  },
  {
   "cell_type": "code",
   "execution_count": null,
   "metadata": {},
   "outputs": [],
   "source": [
    "from projeto import IGen\n",
    "\n",
    "class Replay(IGen):\n",
    "    def __init__(self,inputs):\n",
    "        self.inputs = inputs\n",
    "    def get_rand():\n",
    "        self.inputs.pop(0) #sempre retira o primeiro"
   ]
  },
  {
   "cell_type": "code",
   "execution_count": null,
   "metadata": {},
   "outputs": [],
   "source": [
    "file_name = 'entradas.csv'\n",
    "classes = 8\n",
    "myf = open(file_name,'r')\n",
    "linhas = [l.replace('\\n','') for l in myf.readlines() if len(l)>1]"
   ]
  },
  {
   "cell_type": "code",
   "execution_count": 81,
   "metadata": {},
   "outputs": [
    {
     "ename": "SyntaxError",
     "evalue": "unexpected EOF while parsing (<ipython-input-81-9882c60ec479>, line 30)",
     "output_type": "error",
     "traceback": [
      "\u001b[0;36m  File \u001b[0;32m\"<ipython-input-81-9882c60ec479>\"\u001b[0;36m, line \u001b[0;32m30\u001b[0m\n\u001b[0;31m    \u001b[0m\n\u001b[0m    ^\u001b[0m\n\u001b[0;31mSyntaxError\u001b[0m\u001b[0;31m:\u001b[0m unexpected EOF while parsing\n"
     ]
    }
   ],
   "source": [
    "# Implementacao assincrona baseada em: ref Chandy, K. M., & Misra, J. (1981). Asynchronous distributed simulation via a sequence of parallel computations. Communications of the ACM, 24(4), 198–206. doi:10.1145/358598.358613 \n",
    "\n",
    "\n",
    "# class Pipe(self):\n",
    "\n",
    "class MsgStatus(enum):\n",
    "    FILA = 1\n",
    "    BALCAO = 2\n",
    "    CONSULTA = 3\n",
    "    SBALCAO = 4\n",
    "    SAIDA = 5\n",
    "\n",
    "class Msg:\n",
    "    self.time\n",
    "    self.id\n",
    "\n",
    "    \n",
    "class Spv: #spv service providers (atendentes) ou pode ser usado como fila quando sem entrada.\n",
    "    def __init__(self,time):\n",
    "        self.time = time\n",
    "    def atende(self):\n",
    "        pass\n",
    "\n",
    "class LogicalProcess:\n",
    "    def __init__(self,spvs): \n",
    "        self.spvs = spvs\n",
    "    def execute(self):\n",
    "        \n",
    "    def notify(self,msg):\n",
    "        "
   ]
  },
  {
   "cell_type": "code",
   "execution_count": null,
   "metadata": {},
   "outputs": [],
   "source": [
    "class Simulation:\n",
    "    self.lps=[]\n",
    "    def __init__ (self,n_units):\n",
    "        "
   ]
  },
  {
   "cell_type": "code",
   "execution_count": null,
   "metadata": {},
   "outputs": [],
   "source": [
    "class "
   ]
  },
  {
   "cell_type": "code",
   "execution_count": null,
   "metadata": {},
   "outputs": [],
   "source": []
  },
  {
   "cell_type": "code",
   "execution_count": 34,
   "metadata": {},
   "outputs": [],
   "source": [
    "# file_name = 'entradas.csv'\n",
    "# classes = 8\n",
    "# # Arrumar csv errado:\n",
    "# #lendo do csv erradão\n",
    "# myf = open('entradas_old.csv','r')\n",
    "# linhas = myf.readlines()\n",
    "# linhas = [l.replace('\\n','') for l in linhas if len(l)>1]\n",
    "# myf.close()\n",
    "# amostras=[]\n",
    "# for linha in linhas:\n",
    "#     amostras.append( [x for x in linha.split(',')] )\n",
    "# print(amostras)\n",
    "\n",
    "# lines = []\n",
    "# lines.append('chegada, ficha, atendimento, pagamento')\n",
    "# for i in zip(*amostras):\n",
    "#     lines.append(','.join(i))\n",
    "# print (lines)\n",
    "# #     pass\n",
    "# myf = open(file_name,'w')\n",
    "# myf.writelines([line+'\\n' for line in lines])\n",
    "# myf.close()"
   ]
  },
  {
   "cell_type": "code",
   "execution_count": null,
   "metadata": {},
   "outputs": [],
   "source": []
  },
  {
   "cell_type": "code",
   "execution_count": null,
   "metadata": {},
   "outputs": [],
   "source": []
  },
  {
   "cell_type": "code",
   "execution_count": null,
   "metadata": {},
   "outputs": [],
   "source": []
  }
 ],
 "metadata": {
  "kernelspec": {
   "display_name": "Python 3",
   "language": "python",
   "name": "python3"
  },
  "language_info": {
   "codemirror_mode": {
    "name": "ipython",
    "version": 3
   },
   "file_extension": ".py",
   "mimetype": "text/x-python",
   "name": "python",
   "nbconvert_exporter": "python",
   "pygments_lexer": "ipython3",
   "version": "3.8.5"
  }
 },
 "nbformat": 4,
 "nbformat_minor": 4
}
