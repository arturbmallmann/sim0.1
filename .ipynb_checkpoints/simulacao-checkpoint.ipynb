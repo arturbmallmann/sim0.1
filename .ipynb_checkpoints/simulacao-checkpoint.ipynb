{
 "cells": [
  {
   "cell_type": "markdown",
   "metadata": {},
   "source": [
    "<h1>Trabalho de Modelagem e Simulação</h1>\n",
    "<p style='font-size: 20px'>Aluno: Artur Bernardo Mallmann</p>\n",
    "Importa classe de"
   ]
  },
  {
   "cell_type": "code",
   "execution_count": 1,
   "metadata": {},
   "outputs": [],
   "source": [
    "from abc import ABCMeta, abstractmethod, abstractproperty\n",
    "import pandas\n",
    "# class IGen:\n",
    "#     __metaclass__ = ABCMeta"
   ]
  },
  {
   "cell_type": "markdown",
   "metadata": {},
   "source": [
    "<h2>Classe para ler CSVs</h2>"
   ]
  },
  {
   "cell_type": "code",
   "execution_count": 2,
   "metadata": {},
   "outputs": [
    {
     "name": "stdout",
     "output_type": "stream",
     "text": [
      "Help on class MyCSVs in module projeto:\n",
      "\n",
      "class MyCSVs(builtins.object)\n",
      " |  MyCSVs(file_name)\n",
      " |  \n",
      " |  Methods defined here:\n",
      " |  \n",
      " |  __init__(self, file_name)\n",
      " |      Initialize self.  See help(type(self)) for accurate signature.\n",
      " |  \n",
      " |  __iter__(self)\n",
      " |  \n",
      " |  __next__(self)\n",
      " |  \n",
      " |  get_col(self, col)\n",
      " |  \n",
      " |  get_dict(self)\n",
      " |  \n",
      " |  get_line(self, line, campos=None)\n",
      " |  \n",
      " |  get_names(self)\n",
      " |  \n",
      " |  print_html(self)\n",
      " |  \n",
      " |  where(self, campo, valor, campos=None)\n",
      " |  \n",
      " |  ----------------------------------------------------------------------\n",
      " |  Data descriptors defined here:\n",
      " |  \n",
      " |  __dict__\n",
      " |      dictionary for instance variables (if defined)\n",
      " |  \n",
      " |  __weakref__\n",
      " |      list of weak references to the object (if defined)\n",
      "\n"
     ]
    },
    {
     "data": {
      "text/html": [
       "<table><tr><th>ir</th><th>fichar</th><th>consultar</th><th>pagar</th></tr><tr><td>3</td><td>7</td><td>23</td><td>4</td></tr><tr><td>5</td><td>11</td><td>15</td><td>4</td></tr><tr><td>8</td><td>8</td><td>18</td><td>2</td></tr><tr><td>9</td><td>7</td><td>17</td><td>3</td></tr><tr><td>11</td><td>12</td><td>22</td><td>2</td></tr><tr><td>12</td><td>10</td><td>25</td><td>4</td></tr><tr><td>14</td><td>9</td><td>21</td><td>3</td></tr><tr><td>17</td><td>8</td><td>22</td><td>4</td></tr><tr><td>18</td><td>10</td><td>16</td><td>3</td></tr><tr><td>21</td><td>7</td><td>20</td><td>2</td></tr></table>"
      ],
      "text/plain": [
       "<IPython.core.display.HTML object>"
      ]
     },
     "metadata": {},
     "output_type": "display_data"
    }
   ],
   "source": [
    "from projeto import MyCSVs\n",
    "arquivo = MyCSVs('entradas.csv')\n",
    "help(MyCSVs)\n",
    "\n",
    "\n",
    "# arquivo = pandas.read_csv('entradas.csv')\n",
    "arquivo.print_html()\n",
    "# print(arquivo.get_item('ir',0))"
   ]
  },
  {
   "cell_type": "markdown",
   "metadata": {},
   "source": [
    "<h2>Gerar Valores por monte Carlo</h2>\n",
    "Caso queiramos gerar valores baseado em tempos de chegada amostrados em um CSV, basta passá-lo por por parâmetro"
   ]
  },
  {
   "cell_type": "code",
   "execution_count": 3,
   "metadata": {},
   "outputs": [],
   "source": [
    "from montecarlo import MonteCarlo\n",
    "classes = 8 # tipos de amostras diferentes"
   ]
  },
  {
   "cell_type": "code",
   "execution_count": 4,
   "metadata": {},
   "outputs": [
    {
     "name": "stderr",
     "output_type": "stream",
     "text": [
      "2.25\n",
      "classes: 8\n",
      "delta: 2.25\n",
      "increment: [0, 0, 2, 2, 3, 4, 4, 6, 6, 7]\n",
      "freq:[0.2, 0.2, 0.4, 0.5, 0.7, 0.7, 0.8999999999999999, 0.9999999999999999]\n",
      "pms:[4.125, 6.375, 8.625, 10.875, 13.125, 15.375, 17.625, 19.875]\n",
      "0.625\n",
      "classes: 8\n",
      "delta: 0.625\n",
      "increment: [0, 6, 1, 0, 7, 4, 3, 1, 4, 0]\n",
      "freq:[0.3, 0.5, 0.5, 0.6, 0.8, 0.8, 0.9, 1.0]\n",
      "pms:[7.3125, 7.9375, 8.5625, 9.1875, 9.8125, 10.4375, 11.0625, 11.6875]\n",
      "1.25\n",
      "classes: 8\n",
      "delta: 1.25\n",
      "increment: [6, 0, 2, 1, 5, 7, 4, 5, 0, 4]\n",
      "freq:[0.2, 0.30000000000000004, 0.4, 0.4, 0.6000000000000001, 0.8, 0.9, 1.0]\n",
      "pms:[15.625, 16.875, 18.125, 19.375, 20.625, 21.875, 23.125, 24.375]\n",
      "0.25\n",
      "classes: 8\n",
      "delta: 0.25\n",
      "increment: [7, 7, 0, 4, 0, 7, 4, 7, 4, 0]\n",
      "freq:[0.3, 0.3, 0.3, 0.3, 0.6, 0.6, 0.6, 1.0]\n",
      "pms:[2.125, 2.375, 2.625, 2.875, 3.125, 3.375, 3.625, 3.875]\n"
     ]
    }
   ],
   "source": [
    "#mcs é objeto de uma das classes que gera amostras, que tbm pode ser geradores aleatórios quaisquer\n",
    "mcs = dict()\n",
    "for en in arquivo.get_names():\n",
    "    mcs.update({en:MonteCarlo(classes,arquivo.get_col(en))})\n",
    "# for en in arquivo.keys():\n",
    "#     mcs.update({en:MonteCarlo(classes,arquivo[en])})"
   ]
  },
  {
   "cell_type": "code",
   "execution_count": 5,
   "metadata": {},
   "outputs": [
    {
     "name": "stderr",
     "output_type": "stream",
     "text": [
      "0.9\n",
      "classes: 10\n",
      "delta: 0.9\n",
      "increment: [0, 1, 2, 9]\n",
      "freq:[0.25, 0.5, 0.75, 0.75, 0.75, 0.75, 0.75, 0.75, 0.75, 1.0]\n",
      "pms:[1.45, 2.35, 3.25, 4.15, 5.05, 5.95, 6.8500000000000005, 7.75, 8.649999999999999, 9.549999999999999]\n"
     ]
    }
   ],
   "source": [
    "mc = MonteCarlo(10,[1,2,3,10])\n",
    "# MonteCarlo.__str__ = lambda self:f'{self.get_rand()}'"
   ]
  },
  {
   "cell_type": "code",
   "execution_count": 6,
   "metadata": {},
   "outputs": [
    {
     "name": "stdout",
     "output_type": "stream",
     "text": [
      "17.625\n"
     ]
    }
   ],
   "source": [
    "print(mcs['ir'].get_rand())"
   ]
  },
  {
   "cell_type": "code",
   "execution_count": 7,
   "metadata": {},
   "outputs": [
    {
     "name": "stdout",
     "output_type": "stream",
     "text": [
      "['ir', 'fichar', 'consultar', 'pagar']\n"
     ]
    }
   ],
   "source": [
    "print(arquivo.get_names())\n",
    "# print(arquivo.keys())"
   ]
  },
  {
   "cell_type": "markdown",
   "metadata": {},
   "source": [
    "<h2>Replay: Ressimular baseado em um CSV</h2>\n",
    "Caso queira rever uma simulação específica basta passar o CSV por parâmetro."
   ]
  },
  {
   "cell_type": "code",
   "execution_count": 8,
   "metadata": {},
   "outputs": [],
   "source": [
    "from projeto import IGen\n",
    "\n",
    "class Replay(IGen):\n",
    "    def __init__(self,inputs):\n",
    "        self.inputs = list(inputs)\n",
    "    def get_rand(self):\n",
    "        return self.inputs.pop(0) if len(self.inputs)!=0 else -1 #sempre retira o primeiro"
   ]
  },
  {
   "cell_type": "code",
   "execution_count": 9,
   "metadata": {},
   "outputs": [],
   "source": [
    "# file_name = 'entradas.csv'\n",
    "classes = 8\n",
    "replay = dict()\n",
    "for en in arquivo.get_names():\n",
    "    col = arquivo.get_col(en)\n",
    "    replay.update({en:Replay(arquivo.get_col(en))})\n",
    "# for en in arquivo.keys():\n",
    "#     replay.update({en:Replay(arquivo[en])})"
   ]
  },
  {
   "cell_type": "code",
   "execution_count": 10,
   "metadata": {},
   "outputs": [
    {
     "name": "stdout",
     "output_type": "stream",
     "text": [
      "3\n"
     ]
    }
   ],
   "source": [
    "print(replay['ir'].get_rand())"
   ]
  },
  {
   "cell_type": "markdown",
   "metadata": {},
   "source": [
    "<h2>Rand: Entradas randômicas</h2>\n",
    "Gera os números de entrada de forma randômica."
   ]
  },
  {
   "cell_type": "code",
   "execution_count": 11,
   "metadata": {},
   "outputs": [
    {
     "name": "stdout",
     "output_type": "stream",
     "text": [
      "3.4312814119007697\n"
     ]
    }
   ],
   "source": [
    "import random\n",
    "class GenRand(IGen):\n",
    "    def __init__(self,mini,maxi):\n",
    "        self.bounds=(mini,maxi)\n",
    "    def get_rand(self):\n",
    "        return random.uniform(*self.bounds)\n",
    "aaa = GenRand(2,5)\n",
    "print(aaa.get_rand())"
   ]
  },
  {
   "cell_type": "markdown",
   "metadata": {},
   "source": [
    "<h1>Simulador SimFlex</h1>\n",
    "O simulador <b>SimFlex</b> tem o intuito de ser uma ferramenta totalmente flexível e configurável pelo usuário.\n",
    "Os arquivos de configurações descrevem totalmente o funcionamento da simulação. Eles são:\n",
    "entidades.csv, operacoes.csv e entidades.csv(opcional)\n",
    "\n",
    "<b>entidades.csv:</b> Arquivo responsável por configurar a alocação de Recursos e dados como tempo de execução em cada processo lógico."
   ]
  },
  {
   "cell_type": "code",
   "execution_count": 12,
   "metadata": {},
   "outputs": [
    {
     "data": {
      "text/html": [
       "<table><tr><th>LP</th><th>entidades</th><th>acoes</th><th>tmin</th><th>tmax</th></tr><tr><td>fila</td><td>0</td><td>ir</td><td>2</td><td>5</td></tr><tr><td>balcao</td><td>2</td><td>fichar</td><td>7</td><td>12</td></tr><tr><td>balcao</td><td>2</td><td>pagar</td><td>2</td><td>4</td></tr><tr><td>clinica</td><td>3</td><td>consultar</td><td>15</td><td>25</td></tr></table>"
      ],
      "text/plain": [
       "<IPython.core.display.HTML object>"
      ]
     },
     "metadata": {},
     "output_type": "display_data"
    }
   ],
   "source": [
    "entidades = MyCSVs('entidades.csv')\n",
    "entidades.print_html()\n",
    "# entidades = pandas.read_csv('entidades.csv')\n",
    "# entidades"
   ]
  },
  {
   "cell_type": "markdown",
   "metadata": {},
   "source": [
    "<b>operacoes.csv:</b> Este arquivo é responsável por descrever qual o fluxo das entidades dentro do sistema"
   ]
  },
  {
   "cell_type": "code",
   "execution_count": 13,
   "metadata": {
    "scrolled": true
   },
   "outputs": [
    {
     "data": {
      "text/html": [
       "<table><tr><th>stage</th><th>value</th><th>dest</th><th>nvalue</th></tr><tr><td>fila</td><td>1</td><td>balcao</td><td>2</td></tr><tr><td>balcao</td><td>2</td><td>consulta</td><td>3</td></tr><tr><td>balcao</td><td>4</td><td>saida</td><td>4</td></tr><tr><td>clinica</td><td>3</td><td>balcao</td><td>5</td></tr></table>"
      ],
      "text/plain": [
       "<IPython.core.display.HTML object>"
      ]
     },
     "metadata": {},
     "output_type": "display_data"
    }
   ],
   "source": [
    "operacoes = MyCSVs('operacoes.csv')\n",
    "operacoes.print_html()\n",
    "# operacoes = pandas.read_csv('operacoes.csv')\n",
    "# operacoes"
   ]
  },
  {
   "cell_type": "markdown",
   "metadata": {},
   "source": [
    "<b>entradas.csv</b>(opcional)<b>:</b> Arquivo com a descrição de tempos de eventos pré definidos para gerar novos tempos por monte carlo ou para reproduzir um replay."
   ]
  },
  {
   "cell_type": "code",
   "execution_count": 14,
   "metadata": {},
   "outputs": [
    {
     "data": {
      "text/html": [
       "<table><tr><th>ir</th><th>fichar</th><th>consultar</th><th>pagar</th></tr><tr><td>3</td><td>7</td><td>23</td><td>4</td></tr><tr><td>5</td><td>11</td><td>15</td><td>4</td></tr><tr><td>8</td><td>8</td><td>18</td><td>2</td></tr><tr><td>9</td><td>7</td><td>17</td><td>3</td></tr><tr><td>11</td><td>12</td><td>22</td><td>2</td></tr><tr><td>12</td><td>10</td><td>25</td><td>4</td></tr><tr><td>14</td><td>9</td><td>21</td><td>3</td></tr><tr><td>17</td><td>8</td><td>22</td><td>4</td></tr><tr><td>18</td><td>10</td><td>16</td><td>3</td></tr><tr><td>21</td><td>7</td><td>20</td><td>2</td></tr></table>"
      ],
      "text/plain": [
       "<IPython.core.display.HTML object>"
      ]
     },
     "metadata": {},
     "output_type": "display_data"
    }
   ],
   "source": [
    "entradas = MyCSVs('entradas.csv')\n",
    "entradas.print_html()\n",
    "# entradas = pandas.read_csv('entradas.csv')\n",
    "# entradas"
   ]
  },
  {
   "cell_type": "markdown",
   "metadata": {},
   "source": [
    "For each funcionando em todos:"
   ]
  },
  {
   "cell_type": "code",
   "execution_count": 15,
   "metadata": {},
   "outputs": [
    {
     "name": "stdout",
     "output_type": "stream",
     "text": [
      "('fila', 0, 'ir', 2, 5)\n",
      "('balcao', 2, 'fichar', 7, 12)\n",
      "('balcao', 2, 'pagar', 2, 4)\n",
      "('clinica', 3, 'consultar', 15, 25)\n",
      "(3, 7, 23, 4)\n",
      "(5, 11, 15, 4)\n",
      "(8, 8, 18, 2)\n",
      "(9, 7, 17, 3)\n",
      "(11, 12, 22, 2)\n",
      "(12, 10, 25, 4)\n",
      "(14, 9, 21, 3)\n",
      "(17, 8, 22, 4)\n",
      "(18, 10, 16, 3)\n",
      "(21, 7, 20, 2)\n",
      "('fila', 1, 'balcao', 2)\n",
      "('balcao', 2, 'consulta', 3)\n",
      "('balcao', 4, 'saida', 4)\n",
      "('clinica', 3, 'balcao', 5)\n"
     ]
    },
    {
     "data": {
      "text/plain": [
       "[(2, 'consulta', 3), (4, 'saida', 4)]"
      ]
     },
     "execution_count": 15,
     "metadata": {},
     "output_type": "execute_result"
    }
   ],
   "source": [
    "for i in entidades:\n",
    "    print(i)\n",
    "for i in entradas:\n",
    "    print (i)\n",
    "for i in operacoes:\n",
    "    print (i)\n",
    "    \n",
    "operacoes.where('stage','balcao')"
   ]
  },
  {
   "cell_type": "code",
   "execution_count": 16,
   "metadata": {},
   "outputs": [],
   "source": [
    "# Implementacao assincrona baseada em: ref Chandy, K. M., & Misra, J. (1981). Asynchronous distributed simulation via a sequence of parallel computations. Communications of the ACM, 24(4), 198–206. doi:10.1145/358598.358613 \n",
    "\n",
    "\n",
    "# class Pipe(self):\n",
    "\n",
    "# class MsgStatus(enum):\n",
    "#     FILA = 1\n",
    "#     BALCAO = 2\n",
    "#     CONSULTA = 3\n",
    "#     SBALCAO = 4\n",
    "#     SAIDA = 5\n",
    "\n",
    "class Msg:\n",
    "    def __init__(self,time,action):\n",
    "        self.time=time\n",
    "        self.action=action\n",
    "    \n",
    "# class Spv: #spv service providers (atendentes) ou pode ser usado como fila quando sem entrada.\n",
    "#     def __init__(self,time):\n",
    "#         self.time = time\n",
    "#     def atende(self):\n",
    "#         pass\n",
    "\n",
    "class LogicalProcess:\n",
    "    def __init__(self,lp,acoes,serv): \n",
    "        self.fila=[] # A princípio filas únicas\n",
    "        self.serv=serv\n",
    "        self.timers=dict()\n",
    "        self.lvc = 0 #relógio local\n",
    "        self.spvs = spvs\n",
    "    def set_timer(action,timer):\n",
    "        self.timers.update(action,timer)\n",
    "    def qeue(self,msg):\n",
    "        if (self.lvc <= msg.time):\n",
    "            fila.append(msg)\n",
    "    def execute(self):\n",
    "        pass\n",
    "    def notify(self,msg):\n",
    "        pass"
   ]
  },
  {
   "cell_type": "code",
   "execution_count": 17,
   "metadata": {},
   "outputs": [],
   "source": [
    "class Simulation:\n",
    "    def __init__ (self,entidades,operacoes,entradas=None,replay=False):\n",
    "        self.lps=dict()\n",
    "        for entidade in entidades:\n",
    "            LP,serv,action,tmin,tmax = entidade\n",
    "            if(entradas == None):\n",
    "                lp.set_time(action)\n",
    "            lp = LogicalProcess()\n",
    "            self.lps.update({entidade[0]:[]})\n",
    "        for k in self.lps.keys():\n",
    "            self.lps[k]=entidades.where('LP',k)\n",
    "            \n",
    "        self.acoes=dict()\n",
    "        for k in self.lps.keys():\n",
    "            self.acoes[k]=operacoes.where('stage',k)\n",
    "        \n",
    "        print(self.lps)\n",
    "        print(self.acoes)\n",
    "        self.temporizadores=[]\n",
    "        self.tempo=0\n",
    "#         print (self.entidades['LD'])\n",
    "#         if (entradas == None):\n",
    "#             pass\n",
    "#     def criar_entidades()\n",
    "#         pass"
   ]
  },
  {
   "cell_type": "code",
   "execution_count": 19,
   "metadata": {},
   "outputs": [],
   "source": [
    "# csvs: entidades,operacoes,entradas:"
   ]
  },
  {
   "cell_type": "code",
   "execution_count": 20,
   "metadata": {},
   "outputs": [
    {
     "name": "stdout",
     "output_type": "stream",
     "text": [
      "{'fila': [(0, 'ir', 2, 5)], 'balcao': [(2, 'fichar', 7, 12), (2, 'pagar', 2, 4)], 'clinica': [(3, 'consultar', 15, 25)]}\n",
      "{'fila': [(1, 'balcao', 2)], 'balcao': [(2, 'consulta', 3), (4, 'saida', 4)], 'clinica': [(3, 'balcao', 5)]}\n"
     ]
    }
   ],
   "source": [
    "sim = Simulation(entidades,operacoes)"
   ]
  },
  {
   "cell_type": "code",
   "execution_count": null,
   "metadata": {},
   "outputs": [],
   "source": [
    "# file_name = 'entradas.csv'\n",
    "# classes = 8\n",
    "# # Arrumar csv errado:\n",
    "# #lendo do csv erradão\n",
    "# myf = open('entradas_old.csv','r')\n",
    "# linhas = myf.readlines()\n",
    "# linhas = [l.replace('\\n','') for l in linhas if len(l)>1]\n",
    "# myf.close()\n",
    "# amostras=[]\n",
    "# for linha in linhas:\n",
    "#     amostras.append( [x for x in linha.split(',')] )\n",
    "# print(amostras)\n",
    "\n",
    "# lines = []\n",
    "# lines.append('chegada, ficha, atendimento, pagamento')\n",
    "# for i in zip(*amostras):\n",
    "#     lines.append(','.join(i))\n",
    "# print (lines)\n",
    "# #     pass\n",
    "# myf = open(file_name,'w')\n",
    "# myf.writelines([line+'\\n' for line in lines])\n",
    "# myf.close()"
   ]
  },
  {
   "cell_type": "code",
   "execution_count": null,
   "metadata": {},
   "outputs": [],
   "source": []
  },
  {
   "cell_type": "code",
   "execution_count": null,
   "metadata": {},
   "outputs": [],
   "source": []
  },
  {
   "cell_type": "code",
   "execution_count": null,
   "metadata": {},
   "outputs": [],
   "source": []
  }
 ],
 "metadata": {
  "kernelspec": {
   "display_name": "Python 3",
   "language": "python",
   "name": "python3"
  },
  "language_info": {
   "codemirror_mode": {
    "name": "ipython",
    "version": 3
   },
   "file_extension": ".py",
   "mimetype": "text/x-python",
   "name": "python",
   "nbconvert_exporter": "python",
   "pygments_lexer": "ipython3",
   "version": "3.8.5"
  }
 },
 "nbformat": 4,
 "nbformat_minor": 4
}
