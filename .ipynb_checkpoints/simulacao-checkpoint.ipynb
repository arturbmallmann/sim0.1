{
 "cells": [
  {
   "cell_type": "markdown",
   "metadata": {},
   "source": [
    "<h1>Trabalho de Modelagem e Simulação</h1>\n",
    "<p style='font-size: 20px'>Aluno: Artur Bernardo Mallmann</p>\n",
    "Importa classe de"
   ]
  },
  {
   "cell_type": "code",
   "execution_count": 5,
   "metadata": {},
   "outputs": [],
   "source": [
    "from abc import ABCMeta, abstractmethod, abstractproperty\n",
    "import sys\n",
    "import pandas\n",
    "# class IGen:\n",
    "#     __metaclass__ = ABCMeta"
   ]
  },
  {
   "cell_type": "markdown",
   "metadata": {},
   "source": [
    "<h2>Classe para ler CSVs</h2>"
   ]
  },
  {
   "cell_type": "code",
   "execution_count": 6,
   "metadata": {},
   "outputs": [
    {
     "name": "stdout",
     "output_type": "stream",
     "text": [
      "Help on class MyCSVs in module projeto:\n",
      "\n",
      "class MyCSVs(builtins.object)\n",
      " |  MyCSVs(file_name)\n",
      " |  \n",
      " |  Methods defined here:\n",
      " |  \n",
      " |  __init__(self, file_name)\n",
      " |      Initialize self.  See help(type(self)) for accurate signature.\n",
      " |  \n",
      " |  __iter__(self)\n",
      " |  \n",
      " |  __next__(self)\n",
      " |  \n",
      " |  get_col(self, col)\n",
      " |  \n",
      " |  get_dict(self)\n",
      " |  \n",
      " |  get_line(self, line, campos=None)\n",
      " |  \n",
      " |  get_names(self)\n",
      " |  \n",
      " |  print_html(self)\n",
      " |  \n",
      " |  where(self, campo, valor, campos=None)\n",
      " |  \n",
      " |  ----------------------------------------------------------------------\n",
      " |  Data descriptors defined here:\n",
      " |  \n",
      " |  __dict__\n",
      " |      dictionary for instance variables (if defined)\n",
      " |  \n",
      " |  __weakref__\n",
      " |      list of weak references to the object (if defined)\n",
      "\n"
     ]
    },
    {
     "data": {
      "text/html": [
       "<table><tr><th>__start__</th><th>fichar</th><th>consultar</th><th>pagar</th></tr><tr><td>3</td><td>7</td><td>23</td><td>4</td></tr><tr><td>5</td><td>11</td><td>15</td><td>4</td></tr><tr><td>8</td><td>8</td><td>18</td><td>2</td></tr><tr><td>9</td><td>7</td><td>17</td><td>3</td></tr><tr><td>11</td><td>12</td><td>22</td><td>2</td></tr><tr><td>12</td><td>10</td><td>25</td><td>4</td></tr><tr><td>14</td><td>9</td><td>21</td><td>3</td></tr><tr><td>17</td><td>8</td><td>22</td><td>4</td></tr><tr><td>18</td><td>10</td><td>16</td><td>3</td></tr><tr><td>21</td><td>7</td><td>20</td><td>2</td></tr></table>"
      ],
      "text/plain": [
       "<IPython.core.display.HTML object>"
      ]
     },
     "metadata": {},
     "output_type": "display_data"
    }
   ],
   "source": [
    "from projeto import MyCSVs\n",
    "arquivo = MyCSVs('entradas.csv')\n",
    "help(MyCSVs)\n",
    "\n",
    "\n",
    "# arquivo = pandas.read_csv('entradas.csv')\n",
    "arquivo.print_html()\n",
    "# print(arquivo.get_item('ir',0))"
   ]
  },
  {
   "cell_type": "markdown",
   "metadata": {},
   "source": [
    "<h2>Gerar Valores por monte Carlo</h2>\n",
    "Caso queiramos gerar valores baseado em tempos de chegada amostrados em um CSV, basta passá-lo por por parâmetro"
   ]
  },
  {
   "cell_type": "code",
   "execution_count": 7,
   "metadata": {},
   "outputs": [],
   "source": [
    "from montecarlo import MonteCarlo\n",
    "classes = 8 # tipos de amostras diferentes"
   ]
  },
  {
   "cell_type": "code",
   "execution_count": 8,
   "metadata": {},
   "outputs": [
    {
     "name": "stderr",
     "output_type": "stream",
     "text": [
      "2.25\n",
      "classes: 8\n",
      "delta: 2.25\n",
      "increment: [0, 0, 2, 2, 3, 4, 4, 6, 6, 7]\n",
      "freq:[0.2, 0.2, 0.4, 0.5, 0.7, 0.7, 0.8999999999999999, 0.9999999999999999]\n",
      "pms:[4.125, 6.375, 8.625, 10.875, 13.125, 15.375, 17.625, 19.875]\n",
      "0.625\n",
      "classes: 8\n",
      "delta: 0.625\n",
      "increment: [0, 6, 1, 0, 7, 4, 3, 1, 4, 0]\n",
      "freq:[0.3, 0.5, 0.5, 0.6, 0.8, 0.8, 0.9, 1.0]\n",
      "pms:[7.3125, 7.9375, 8.5625, 9.1875, 9.8125, 10.4375, 11.0625, 11.6875]\n",
      "1.25\n",
      "classes: 8\n",
      "delta: 1.25\n",
      "increment: [6, 0, 2, 1, 5, 7, 4, 5, 0, 4]\n",
      "freq:[0.2, 0.30000000000000004, 0.4, 0.4, 0.6000000000000001, 0.8, 0.9, 1.0]\n",
      "pms:[15.625, 16.875, 18.125, 19.375, 20.625, 21.875, 23.125, 24.375]\n",
      "0.25\n",
      "classes: 8\n",
      "delta: 0.25\n",
      "increment: [7, 7, 0, 4, 0, 7, 4, 7, 4, 0]\n",
      "freq:[0.3, 0.3, 0.3, 0.3, 0.6, 0.6, 0.6, 1.0]\n",
      "pms:[2.125, 2.375, 2.625, 2.875, 3.125, 3.375, 3.625, 3.875]\n"
     ]
    }
   ],
   "source": [
    "#mcs é objeto de uma das classes que gera amostras, que tbm pode ser geradores aleatórios quaisquer\n",
    "mcs = dict()\n",
    "for en in arquivo.get_names():\n",
    "    mcs.update({en:MonteCarlo(classes,arquivo.get_col(en))})\n",
    "# for en in arquivo.keys():\n",
    "#     mcs.update({en:MonteCarlo(classes,arquivo[en])})"
   ]
  },
  {
   "cell_type": "code",
   "execution_count": 9,
   "metadata": {},
   "outputs": [
    {
     "name": "stderr",
     "output_type": "stream",
     "text": [
      "0.9\n",
      "classes: 10\n",
      "delta: 0.9\n",
      "increment: [0, 1, 2, 9]\n",
      "freq:[0.25, 0.5, 0.75, 0.75, 0.75, 0.75, 0.75, 0.75, 0.75, 1.0]\n",
      "pms:[1.45, 2.35, 3.25, 4.15, 5.05, 5.95, 6.8500000000000005, 7.75, 8.649999999999999, 9.549999999999999]\n"
     ]
    }
   ],
   "source": [
    "mc = MonteCarlo(10,[1,2,3,10])\n",
    "# MonteCarlo.__str__ = lambda self:f'{self.get_rand()}'"
   ]
  },
  {
   "cell_type": "code",
   "execution_count": 10,
   "metadata": {},
   "outputs": [
    {
     "name": "stdout",
     "output_type": "stream",
     "text": [
      "8.625\n"
     ]
    }
   ],
   "source": [
    "print(mcs['__start__'].get_rand())"
   ]
  },
  {
   "cell_type": "code",
   "execution_count": 11,
   "metadata": {},
   "outputs": [
    {
     "name": "stdout",
     "output_type": "stream",
     "text": [
      "['__start__', 'fichar', 'consultar', 'pagar']\n"
     ]
    }
   ],
   "source": [
    "print(arquivo.get_names())\n",
    "# print(arquivo.keys())"
   ]
  },
  {
   "cell_type": "markdown",
   "metadata": {},
   "source": [
    "<h2>Replay: Ressimular baseado em um CSV</h2>\n",
    "Caso queira rever uma simulação específica basta passar o CSV por parâmetro."
   ]
  },
  {
   "cell_type": "code",
   "execution_count": 12,
   "metadata": {},
   "outputs": [],
   "source": [
    "from projeto import IGen\n",
    "\n",
    "class Replay(IGen):\n",
    "    def __init__(self,inputs):\n",
    "        self.inputs = list(inputs)\n",
    "    def get_rand(self):\n",
    "        return self.inputs.pop(0) if len(self.inputs)!=0 else -1 #sempre retira o primeiro"
   ]
  },
  {
   "cell_type": "code",
   "execution_count": 13,
   "metadata": {},
   "outputs": [],
   "source": [
    "# file_name = 'entradas.csv'\n",
    "classes = 8\n",
    "replay = dict()\n",
    "for en in arquivo.get_names():\n",
    "    col = arquivo.get_col(en)\n",
    "    replay.update({en:Replay(arquivo.get_col(en))})\n",
    "# for en in arquivo.keys():\n",
    "#     replay.update({en:Replay(arquivo[en])})"
   ]
  },
  {
   "cell_type": "code",
   "execution_count": 14,
   "metadata": {},
   "outputs": [
    {
     "name": "stdout",
     "output_type": "stream",
     "text": [
      "3\n"
     ]
    }
   ],
   "source": [
    "print(replay['__start__'].get_rand())"
   ]
  },
  {
   "cell_type": "markdown",
   "metadata": {},
   "source": [
    "<h2>Rand: Entradas randômicas</h2>\n",
    "Gera os números de entrada de forma randômica."
   ]
  },
  {
   "cell_type": "code",
   "execution_count": 15,
   "metadata": {},
   "outputs": [
    {
     "name": "stdout",
     "output_type": "stream",
     "text": [
      "4.992077846511732\n"
     ]
    }
   ],
   "source": [
    "import random\n",
    "class GenRand(IGen):\n",
    "    def __init__(self,mini,maxi):\n",
    "        self.bounds=(mini,maxi)\n",
    "    def get_rand(self):\n",
    "        return random.uniform(*self.bounds)\n",
    "aaa = GenRand(2,5)\n",
    "print(aaa.get_rand())"
   ]
  },
  {
   "cell_type": "markdown",
   "metadata": {},
   "source": [
    "<h1>Simulador SimFlex</h1>\n",
    "O simulador <b>SimFlex</b> tem o intuito de ser uma ferramenta totalmente flexível e configurável pelo usuário.\n",
    "Os arquivos de configurações descrevem totalmente o funcionamento da simulação. Eles são:\n",
    "entidades.csv, operacoes.csv e entidades.csv(opcional)\n",
    "\n",
    "<b>entidades.csv:</b> Arquivo responsável por configurar a alocação de Recursos e dados como tempo de execução em cada processo lógico."
   ]
  },
  {
   "cell_type": "code",
   "execution_count": 16,
   "metadata": {},
   "outputs": [
    {
     "data": {
      "text/html": [
       "<table><tr><th>LP</th><th>serv</th><th>acoes</th><th>tmin</th><th>tmax</th></tr><tr><td>__src__</td><td>50</td><td>__start__</td><td>2</td><td>5</td></tr><tr><td>balcao</td><td>2</td><td>fichar</td><td>7</td><td>12</td></tr><tr><td>balcao</td><td>2</td><td>pagar</td><td>2</td><td>4</td></tr><tr><td>clinica</td><td>3</td><td>consultar</td><td>15</td><td>25</td></tr><tr><td>__sync__</td><td>0</td><td>__stop__</td><td>0</td><td>0</td></tr></table>"
      ],
      "text/plain": [
       "<IPython.core.display.HTML object>"
      ]
     },
     "metadata": {},
     "output_type": "display_data"
    }
   ],
   "source": [
    "entidades = MyCSVs('entidades.csv')\n",
    "entidades.print_html()\n",
    "# entidades = pandas.read_csv('entidades.csv')\n",
    "# entidades"
   ]
  },
  {
   "cell_type": "markdown",
   "metadata": {},
   "source": [
    "<b>operacoes.csv:</b> Este arquivo é responsável por descrever qual o fluxo das entidades dentro do sistema"
   ]
  },
  {
   "cell_type": "code",
   "execution_count": 17,
   "metadata": {
    "scrolled": true
   },
   "outputs": [
    {
     "data": {
      "text/html": [
       "<table><tr><th>LP</th><th>value</th><th>dest</th><th>nvalue</th></tr><tr><td>__src__</td><td>__start__</td><td>balcao</td><td>fichar</td></tr><tr><td>balcao</td><td>fichar</td><td>clinica</td><td>consultar</td></tr><tr><td>balcao</td><td>pagar</td><td>__sync__</td><td>__stop__</td></tr><tr><td>clinica</td><td>consultar</td><td>balcao</td><td>pagar</td></tr></table>"
      ],
      "text/plain": [
       "<IPython.core.display.HTML object>"
      ]
     },
     "metadata": {},
     "output_type": "display_data"
    }
   ],
   "source": [
    "operacoes = MyCSVs('operacoes.csv')\n",
    "operacoes.print_html()\n",
    "# operacoes = pandas.read_csv('operacoes.csv')\n",
    "# operacoes"
   ]
  },
  {
   "cell_type": "markdown",
   "metadata": {},
   "source": [
    "<b>entradas.csv</b>(opcional)<b>:</b> Arquivo com a descrição de tempos de eventos pré definidos para gerar novos tempos por monte carlo ou para reproduzir um replay."
   ]
  },
  {
   "cell_type": "code",
   "execution_count": 18,
   "metadata": {},
   "outputs": [
    {
     "data": {
      "text/html": [
       "<table><tr><th>__start__</th><th>fichar</th><th>consultar</th><th>pagar</th></tr><tr><td>3</td><td>7</td><td>23</td><td>4</td></tr><tr><td>5</td><td>11</td><td>15</td><td>4</td></tr><tr><td>8</td><td>8</td><td>18</td><td>2</td></tr><tr><td>9</td><td>7</td><td>17</td><td>3</td></tr><tr><td>11</td><td>12</td><td>22</td><td>2</td></tr><tr><td>12</td><td>10</td><td>25</td><td>4</td></tr><tr><td>14</td><td>9</td><td>21</td><td>3</td></tr><tr><td>17</td><td>8</td><td>22</td><td>4</td></tr><tr><td>18</td><td>10</td><td>16</td><td>3</td></tr><tr><td>21</td><td>7</td><td>20</td><td>2</td></tr></table>"
      ],
      "text/plain": [
       "<IPython.core.display.HTML object>"
      ]
     },
     "metadata": {},
     "output_type": "display_data"
    }
   ],
   "source": [
    "entradas = MyCSVs('entradas.csv')\n",
    "entradas.print_html()\n",
    "# entradas = pandas.read_csv('entradas.csv')\n",
    "# entradas"
   ]
  },
  {
   "cell_type": "markdown",
   "metadata": {},
   "source": [
    "For each funcionando em todos:"
   ]
  },
  {
   "cell_type": "code",
   "execution_count": 19,
   "metadata": {},
   "outputs": [
    {
     "name": "stdout",
     "output_type": "stream",
     "text": [
      "('__src__', 50, '__start__', 2, 5)\n",
      "('balcao', 2, 'fichar', 7, 12)\n",
      "('balcao', 2, 'pagar', 2, 4)\n",
      "('clinica', 3, 'consultar', 15, 25)\n",
      "('__sync__', 0, '__stop__', 0, 0)\n",
      "(3, 7, 23, 4)\n",
      "(5, 11, 15, 4)\n",
      "(8, 8, 18, 2)\n",
      "(9, 7, 17, 3)\n",
      "(11, 12, 22, 2)\n",
      "(12, 10, 25, 4)\n",
      "(14, 9, 21, 3)\n",
      "(17, 8, 22, 4)\n",
      "(18, 10, 16, 3)\n",
      "(21, 7, 20, 2)\n",
      "('__src__', '__start__', 'balcao', 'fichar')\n",
      "('balcao', 'fichar', 'clinica', 'consultar')\n",
      "('balcao', 'pagar', '__sync__', '__stop__')\n",
      "('clinica', 'consultar', 'balcao', 'pagar')\n"
     ]
    },
    {
     "data": {
      "text/plain": [
       "[('fichar', 'clinica', 'consultar'), ('pagar', '__sync__', '__stop__')]"
      ]
     },
     "execution_count": 19,
     "metadata": {},
     "output_type": "execute_result"
    }
   ],
   "source": [
    "for i in entidades:\n",
    "    print(i)\n",
    "for i in entradas:\n",
    "    print (i)\n",
    "for i in operacoes:\n",
    "    print (i)\n",
    "    \n",
    "operacoes.where('LP','balcao')"
   ]
  },
  {
   "cell_type": "markdown",
   "metadata": {},
   "source": [
    "Mensagems e servidores"
   ]
  },
  {
   "cell_type": "code",
   "execution_count": 20,
   "metadata": {},
   "outputs": [],
   "source": [
    "class Msg:\n",
    "    def __init__(self,time,tgt,action):\n",
    "        self.time=time #relógio do processo\n",
    "        self.tgt=tgt\n",
    "        self.action=action # ir,fichar, consultar, pagar, sair\n",
    "    def run(self,time,tgt,action):\n",
    "        self.time+=time #relógio do processo\n",
    "        self.tgt=tgt\n",
    "        self.action=action # ir,fichar, consultar, pagar, sair\n",
    "    def log(self):\n",
    "        return f'(t={self.time},tgt={self.tgt.lpid},action={self.action})'\n",
    "#         return f'(t={self.time},action={self.action})'\n",
    "#         return f'(t={self.time},tgt={self.tgt}'\n",
    "    def __str__(self):\n",
    "        return f'(t={self.time},tgt={self.tgt.lpid},action={self.action})'\n",
    "    def __repr__(self):\n",
    "        return self.__str__()\n",
    "    \n",
    "class Spv: #spv service providers (atendentes) ou pode ser usado como fila quando sem entrada.\n",
    "    def __init__(self, msg, timer):\n",
    "#         msg.time+=timer.get_rand() # Calcula novo tempo para a mensagem\n",
    "#         msg.action=\n",
    "        pass\n",
    "    def atende(self):\n",
    "        pass\n"
   ]
  },
  {
   "cell_type": "markdown",
   "metadata": {},
   "source": [
    "Processo Lógico, responsável por simular a cadeia de eventos de forma que os eventos desencadeiem na ordem correto, mesmo que assíncrono."
   ]
  },
  {
   "cell_type": "code",
   "execution_count": 29,
   "metadata": {},
   "outputs": [],
   "source": [
    "class LogicalProcess:\n",
    "    def __init__(self,lpid,serv):\n",
    "        self.lpid = lpid\n",
    "        self.fila=[] # A princípio filas únicas\n",
    "        self.serv=serv # entidades simultaneas no LP\n",
    "        self.timers=dict()\n",
    "        self.routes=dict()\n",
    "        self.T = 0 #relógio local\n",
    "        # Chandy & Misra(1981). Asynchronous distributed simulation via a sequence of parallel computations.\n",
    "        #\n",
    "        # All subsequent messages (t, m) sent or received by LPi must have t > Ti. \n",
    "        # (i)LPi must have received a message along each input line, (nosso caso a fila que é unica e ordenada)\n",
    "        # where the t-component of the message is greater than or equal to Ti.\n",
    "        \n",
    "        # (ii)LPi must have deduced that it will not send any message (t, m)\n",
    "        # on any output line where t <= Ti. (LPi can make \n",
    "        # this deduction based on its simulation of\n",
    "        # PPi, it is not necessary for LPi to have actually sent messages (t, m );\n",
    "        # t >= Ti on every output line provided it can guarantee that\n",
    "        # t-components of all subsequent output messages will be greater than Ti).\n",
    "        #\n",
    "        # A process i computes the clock-value of a line (i, j), which is \n",
    "        # a lower bound on the t-component of the next message transmited\n",
    "        # by i along that line. Process j computes the clock-value of line\n",
    "        # (i, j) as the t-component of the last message received along (i, j).\n",
    "        # LP's i and j, in general, will compute different clock-values for\n",
    "        # line (i, j); it should be clear from the context which value is \n",
    "        # meant. Initially clock-value is zero for every line.\n",
    "        self.ocup = []\n",
    "        self.last = 0\n",
    "    def calc_T(self):\n",
    "        if(len(self.fila)>0):\n",
    "            msg = min(self.fila,key=lambda a:a.time)\n",
    "            self.T = msg.time\n",
    "        elif(len(self.ocup)>0):\n",
    "            msg = min(self.ocup,key=lambda a:a.time)\n",
    "            self.T = msg.time\n",
    "    def load (self):\n",
    "        print(\"%\"*50)\n",
    "        # sort by time\n",
    "        # tempos de entrada\n",
    "        self.fila.sort(key=lambda a:a.time,reverse=True) #do menor tempo para o maior\n",
    "        while len(self.fila)>0 and len(self.ocup)<self.serv: #carregar todos os processos possiveis\n",
    "            self.calc_T() # calcula o tempo atual\n",
    "            msg = self.fila.pop() #pega o q chegou por primeiro\n",
    "            t = self.T + self.timers[msg.action].get_rand() #tempo atual(minimo) + tempo gasto\n",
    "            nxt,action = self.routes[msg.action]\n",
    "            msg.run(t,nxt,action) #atribui novos valores à mensagem\n",
    "            self.ocup.append(msg) #fifo\n",
    "    def set_timer(self,action,timer):\n",
    "        self.timers.update({action:timer})\n",
    "    def qeue(self,msg):\n",
    "#         if (msg.time >= self.T):\n",
    "        self.fila.append(msg)\n",
    "#             return True\n",
    "#         print(f\"recusou {msg}\")\n",
    "#         return False\n",
    "    def run(self):\n",
    "        print(\"%\"*50)\n",
    "#         self.load()\n",
    "        self.ocup.sort(key=lambda a:a.time,reverse=True)\n",
    "        remove=[]\n",
    "#         print(self.ocup)\n",
    "        \n",
    "        self.calc_T() # calcula o tempo atual\n",
    "        for p in self.ocup:\n",
    "            if(p.time>=self.T):\n",
    "                resp = p.tgt.qeue(p)\n",
    "#                 if resp:\n",
    "                remove+=[p]\n",
    "        [self.ocup.remove(p) for p in remove]\n",
    "    def set_route(self,action, destino,naction):\n",
    "        self.routes.update({action:(destino,naction)})\n",
    "    def notify(self,msg):\n",
    "        pass\n",
    "    \n",
    "    \n",
    "    # print\n",
    "\n",
    "    def showRoutes(self):\n",
    "        output = \"Routes:\\n\"\n",
    "        for k in self.routes.keys():\n",
    "            output += f\" {k}:\"\n",
    "            dest,na = self.routes[k]\n",
    "            output += f\" {dest.lpid} - {na}\\n\"\n",
    "        return output\n",
    "    def __str__(self):\n",
    "        return f'(LPid: {self.lpid} T({self.T})\\n fila:[{\", \".join([m.log() for m in self.fila])}]\\n p-passo:[{\", \".join([x.log() for x in self.ocup])}])\\n'\n",
    "    def __repr__(self):\n",
    "        return self.__str__()\n",
    "    \n",
    "# Msg(time,destino,action)"
   ]
  },
  {
   "cell_type": "code",
   "execution_count": 30,
   "metadata": {},
   "outputs": [],
   "source": [
    "tempo_global=0\n",
    "\n",
    "class Simulation:\n",
    "    def __init__ (self,entidades,operacoes,entradas=None,classes=8):\n",
    "#         tempo_global=0 #Menor tempo global\n",
    "        \n",
    "        self.lps=dict()\n",
    "        # cria os processadores lógicos e já carrega a configuracao de tempo\n",
    "        for entidade in entidades:\n",
    "            lpid,serv,action,tmin,tmax = entidade\n",
    "            lp = None\n",
    "            try: #se já existir adiciona acoes à classe\n",
    "                lp = self.lps[lpid]\n",
    "            except:\n",
    "                lp = LogicalProcess(lpid,serv)\n",
    "            \n",
    "            if(entradas == None or action==\"__stop__\"):\n",
    "                lp.set_timer(action,GenRand(tmin,tmax))\n",
    "            elif classes==0: # Se Classes == 0 irá simular conforme os tempos do arquivo\n",
    "                lp.set_timer(action,Replay(entradas.get_col(action)))\n",
    "            else: # Gera tempos por monte carlo\n",
    "                lp.set_timer(action,MonteCarlo(classes,entradas.get_col(action)))\n",
    "                    \n",
    "            self.lps.update({lpid:lp})\n",
    "        \n",
    "        for op in operacoes: # Associa a rota dos dados\n",
    "            lpid, action, dest, naction = op\n",
    "            self.lps[lpid].set_route(action,self.lps[dest],naction) # conforme value já associa nvalue e destino\n",
    "#             entidades = \n",
    "#             self.acoes[k]=operacoes.where('LP',k)\n",
    "\n",
    "    def log(self):\n",
    "        [print(f'LP:{lp}\\n{self.lps[lp]}\\n{self.lps[lp].showRoutes()}') for lp in self.lps.keys()]\n",
    "# __init__ é o ponto de entrada\n",
    "    def start(self,n):\n",
    "                                    # Msg(time,destino,action)\n",
    "        for i in range(n): # agenda o carregamento de n entidades novas pra dentro da simulação\n",
    "            self.lps['__src__'].qeue(Msg(0,self.lps['__src__'],'__start__')) # __init__ é responsável por gerar as entidades\n",
    "        \n",
    "        self.log()\n",
    "        i = 0\n",
    "        while len(self.lps['__sync__'].fila) != n:# and i<100: # começar limitando ciclos\n",
    "            i+=1\n",
    "            print(str(i).center(100,'*'))\n",
    "            for lpid in self.lps.keys():\n",
    "                print(lpid.center(100,'-'))\n",
    "                self.lps[lpid].load()\n",
    "#                 self.log()\n",
    "                print(self.lps[lpid])\n",
    "                self.lps[lpid].run() #ciclo em cada LP\n",
    "                print(self.lps[lpid])\n",
    "#                 print (f'{k}\\n')\n",
    "#                 self.log()"
   ]
  },
  {
   "cell_type": "code",
   "execution_count": null,
   "metadata": {},
   "outputs": [],
   "source": []
  },
  {
   "cell_type": "code",
   "execution_count": 31,
   "metadata": {},
   "outputs": [
    {
     "name": "stdout",
     "output_type": "stream",
     "text": [
      "LP:__src__\n",
      "(LPid: __src__ T(0)\n",
      " fila:[]\n",
      " p-passo:[])\n",
      "\n",
      "Routes:\n",
      " __start__: balcao - fichar\n",
      "\n",
      "LP:balcao\n",
      "(LPid: balcao T(0)\n",
      " fila:[]\n",
      " p-passo:[])\n",
      "\n",
      "Routes:\n",
      " fichar: clinica - consultar\n",
      " pagar: __sync__ - __stop__\n",
      "\n",
      "LP:clinica\n",
      "(LPid: clinica T(0)\n",
      " fila:[]\n",
      " p-passo:[])\n",
      "\n",
      "Routes:\n",
      " consultar: balcao - pagar\n",
      "\n",
      "LP:__sync__\n",
      "(LPid: __sync__ T(0)\n",
      " fila:[]\n",
      " p-passo:[])\n",
      "\n",
      "Routes:\n",
      "\n"
     ]
    }
   ],
   "source": [
    "# sim = Simulation(entidades,operacoes,entradas,10)# monte carlo\n",
    "# sim = Simulation(entidades,operacoes,entradas,0) # não estocástico (só para depurações)\n",
    "sim = Simulation(entidades,operacoes) #tempos uniformes\n",
    "sim.log()"
   ]
  },
  {
   "cell_type": "code",
   "execution_count": 32,
   "metadata": {},
   "outputs": [
    {
     "name": "stdout",
     "output_type": "stream",
     "text": [
      "LP:__src__\n",
      "(LPid: __src__ T(0)\n",
      " fila:[(t=0,tgt=__src__,action=__start__), (t=0,tgt=__src__,action=__start__), (t=0,tgt=__src__,action=__start__), (t=0,tgt=__src__,action=__start__), (t=0,tgt=__src__,action=__start__)]\n",
      " p-passo:[])\n",
      "\n",
      "Routes:\n",
      " __start__: balcao - fichar\n",
      "\n",
      "LP:balcao\n",
      "(LPid: balcao T(0)\n",
      " fila:[]\n",
      " p-passo:[])\n",
      "\n",
      "Routes:\n",
      " fichar: clinica - consultar\n",
      " pagar: __sync__ - __stop__\n",
      "\n",
      "LP:clinica\n",
      "(LPid: clinica T(0)\n",
      " fila:[]\n",
      " p-passo:[])\n",
      "\n",
      "Routes:\n",
      " consultar: balcao - pagar\n",
      "\n",
      "LP:__sync__\n",
      "(LPid: __sync__ T(0)\n",
      " fila:[]\n",
      " p-passo:[])\n",
      "\n",
      "Routes:\n",
      "\n",
      "*************************************************1**************************************************\n",
      "----------------------------------------------__src__-----------------------------------------------\n",
      "%%%%%%%%%%%%%%%%%%%%%%%%%%%%%%%%%%%%%%%%%%%%%%%%%%\n",
      "(LPid: __src__ T(0)\n",
      " fila:[]\n",
      " p-passo:[(t=4.872041274235147,tgt=balcao,action=fichar), (t=4.529289412189559,tgt=balcao,action=fichar), (t=3.8154835219724283,tgt=balcao,action=fichar), (t=3.497310200167189,tgt=balcao,action=fichar), (t=2.3411369963135433,tgt=balcao,action=fichar)])\n",
      "\n",
      "%%%%%%%%%%%%%%%%%%%%%%%%%%%%%%%%%%%%%%%%%%%%%%%%%%\n",
      "(LPid: __src__ T(2.3411369963135433)\n",
      " fila:[]\n",
      " p-passo:[])\n",
      "\n",
      "-----------------------------------------------balcao-----------------------------------------------\n",
      "%%%%%%%%%%%%%%%%%%%%%%%%%%%%%%%%%%%%%%%%%%%%%%%%%%\n",
      "(LPid: balcao T(3.497310200167189)\n",
      " fila:[(t=4.872041274235147,tgt=balcao,action=fichar), (t=4.529289412189559,tgt=balcao,action=fichar), (t=3.8154835219724283,tgt=balcao,action=fichar)]\n",
      " p-passo:[(t=13.39668172255833,tgt=clinica,action=consultar), (t=15.266407988044797,tgt=clinica,action=consultar)])\n",
      "\n",
      "%%%%%%%%%%%%%%%%%%%%%%%%%%%%%%%%%%%%%%%%%%%%%%%%%%\n",
      "(LPid: balcao T(3.8154835219724283)\n",
      " fila:[(t=4.872041274235147,tgt=balcao,action=fichar), (t=4.529289412189559,tgt=balcao,action=fichar), (t=3.8154835219724283,tgt=balcao,action=fichar)]\n",
      " p-passo:[])\n",
      "\n",
      "----------------------------------------------clinica-----------------------------------------------\n",
      "%%%%%%%%%%%%%%%%%%%%%%%%%%%%%%%%%%%%%%%%%%%%%%%%%%\n",
      "(LPid: clinica T(15.266407988044797)\n",
      " fila:[]\n",
      " p-passo:[(t=44.145111131148155,tgt=balcao,action=pagar), (t=48.51850717164982,tgt=balcao,action=pagar)])\n",
      "\n",
      "%%%%%%%%%%%%%%%%%%%%%%%%%%%%%%%%%%%%%%%%%%%%%%%%%%\n",
      "(LPid: clinica T(44.145111131148155)\n",
      " fila:[]\n",
      " p-passo:[])\n",
      "\n",
      "----------------------------------------------__sync__----------------------------------------------\n",
      "%%%%%%%%%%%%%%%%%%%%%%%%%%%%%%%%%%%%%%%%%%%%%%%%%%\n",
      "(LPid: __sync__ T(0)\n",
      " fila:[]\n",
      " p-passo:[])\n",
      "\n",
      "%%%%%%%%%%%%%%%%%%%%%%%%%%%%%%%%%%%%%%%%%%%%%%%%%%\n",
      "(LPid: __sync__ T(0)\n",
      " fila:[]\n",
      " p-passo:[])\n",
      "\n",
      "*************************************************2**************************************************\n",
      "----------------------------------------------__src__-----------------------------------------------\n",
      "%%%%%%%%%%%%%%%%%%%%%%%%%%%%%%%%%%%%%%%%%%%%%%%%%%\n",
      "(LPid: __src__ T(2.3411369963135433)\n",
      " fila:[]\n",
      " p-passo:[])\n",
      "\n",
      "%%%%%%%%%%%%%%%%%%%%%%%%%%%%%%%%%%%%%%%%%%%%%%%%%%\n",
      "(LPid: __src__ T(2.3411369963135433)\n",
      " fila:[]\n",
      " p-passo:[])\n",
      "\n",
      "-----------------------------------------------balcao-----------------------------------------------\n",
      "%%%%%%%%%%%%%%%%%%%%%%%%%%%%%%%%%%%%%%%%%%%%%%%%%%\n",
      "(LPid: balcao T(4.529289412189559)\n",
      " fila:[(t=48.51850717164982,tgt=balcao,action=pagar), (t=44.145111131148155,tgt=balcao,action=pagar), (t=4.872041274235147,tgt=balcao,action=fichar)]\n",
      " p-passo:[(t=15.174288365129206,tgt=clinica,action=consultar), (t=18.43233019660471,tgt=clinica,action=consultar)])\n",
      "\n",
      "%%%%%%%%%%%%%%%%%%%%%%%%%%%%%%%%%%%%%%%%%%%%%%%%%%\n",
      "(LPid: balcao T(4.872041274235147)\n",
      " fila:[(t=48.51850717164982,tgt=balcao,action=pagar), (t=44.145111131148155,tgt=balcao,action=pagar), (t=4.872041274235147,tgt=balcao,action=fichar)]\n",
      " p-passo:[])\n",
      "\n",
      "----------------------------------------------clinica-----------------------------------------------\n",
      "%%%%%%%%%%%%%%%%%%%%%%%%%%%%%%%%%%%%%%%%%%%%%%%%%%\n",
      "(LPid: clinica T(18.43233019660471)\n",
      " fila:[]\n",
      " p-passo:[(t=45.47259597965628,tgt=balcao,action=pagar), (t=56.024099658061104,tgt=balcao,action=pagar)])\n",
      "\n",
      "%%%%%%%%%%%%%%%%%%%%%%%%%%%%%%%%%%%%%%%%%%%%%%%%%%\n",
      "(LPid: clinica T(45.47259597965628)\n",
      " fila:[]\n",
      " p-passo:[])\n",
      "\n",
      "----------------------------------------------__sync__----------------------------------------------\n",
      "%%%%%%%%%%%%%%%%%%%%%%%%%%%%%%%%%%%%%%%%%%%%%%%%%%\n",
      "(LPid: __sync__ T(0)\n",
      " fila:[]\n",
      " p-passo:[])\n",
      "\n",
      "%%%%%%%%%%%%%%%%%%%%%%%%%%%%%%%%%%%%%%%%%%%%%%%%%%\n",
      "(LPid: __sync__ T(0)\n",
      " fila:[]\n",
      " p-passo:[])\n",
      "\n",
      "*************************************************3**************************************************\n",
      "----------------------------------------------__src__-----------------------------------------------\n",
      "%%%%%%%%%%%%%%%%%%%%%%%%%%%%%%%%%%%%%%%%%%%%%%%%%%\n",
      "(LPid: __src__ T(2.3411369963135433)\n",
      " fila:[]\n",
      " p-passo:[])\n",
      "\n",
      "%%%%%%%%%%%%%%%%%%%%%%%%%%%%%%%%%%%%%%%%%%%%%%%%%%\n",
      "(LPid: __src__ T(2.3411369963135433)\n",
      " fila:[]\n",
      " p-passo:[])\n",
      "\n",
      "-----------------------------------------------balcao-----------------------------------------------\n",
      "%%%%%%%%%%%%%%%%%%%%%%%%%%%%%%%%%%%%%%%%%%%%%%%%%%\n",
      "(LPid: balcao T(44.145111131148155)\n",
      " fila:[(t=56.024099658061104,tgt=balcao,action=pagar), (t=48.51850717164982,tgt=balcao,action=pagar), (t=45.47259597965628,tgt=balcao,action=pagar)]\n",
      " p-passo:[(t=17.114019891151333,tgt=clinica,action=consultar), (t=91.11939972885409,tgt=__sync__,action=__stop__)])\n",
      "\n",
      "%%%%%%%%%%%%%%%%%%%%%%%%%%%%%%%%%%%%%%%%%%%%%%%%%%\n",
      "(LPid: balcao T(45.47259597965628)\n",
      " fila:[(t=56.024099658061104,tgt=balcao,action=pagar), (t=48.51850717164982,tgt=balcao,action=pagar), (t=45.47259597965628,tgt=balcao,action=pagar)]\n",
      " p-passo:[(t=17.114019891151333,tgt=clinica,action=consultar)])\n",
      "\n",
      "----------------------------------------------clinica-----------------------------------------------\n",
      "%%%%%%%%%%%%%%%%%%%%%%%%%%%%%%%%%%%%%%%%%%%%%%%%%%\n",
      "(LPid: clinica T(45.47259597965628)\n",
      " fila:[]\n",
      " p-passo:[])\n",
      "\n",
      "%%%%%%%%%%%%%%%%%%%%%%%%%%%%%%%%%%%%%%%%%%%%%%%%%%\n",
      "(LPid: clinica T(45.47259597965628)\n",
      " fila:[]\n",
      " p-passo:[])\n",
      "\n",
      "----------------------------------------------__sync__----------------------------------------------\n",
      "%%%%%%%%%%%%%%%%%%%%%%%%%%%%%%%%%%%%%%%%%%%%%%%%%%\n",
      "(LPid: __sync__ T(0)\n",
      " fila:[(t=91.11939972885409,tgt=__sync__,action=__stop__)]\n",
      " p-passo:[])\n",
      "\n",
      "%%%%%%%%%%%%%%%%%%%%%%%%%%%%%%%%%%%%%%%%%%%%%%%%%%\n",
      "(LPid: __sync__ T(91.11939972885409)\n",
      " fila:[(t=91.11939972885409,tgt=__sync__,action=__stop__)]\n",
      " p-passo:[])\n",
      "\n",
      "*************************************************4**************************************************\n",
      "----------------------------------------------__src__-----------------------------------------------\n",
      "%%%%%%%%%%%%%%%%%%%%%%%%%%%%%%%%%%%%%%%%%%%%%%%%%%\n",
      "(LPid: __src__ T(2.3411369963135433)\n",
      " fila:[]\n",
      " p-passo:[])\n",
      "\n",
      "%%%%%%%%%%%%%%%%%%%%%%%%%%%%%%%%%%%%%%%%%%%%%%%%%%\n",
      "(LPid: __src__ T(2.3411369963135433)\n",
      " fila:[]\n",
      " p-passo:[])\n",
      "\n",
      "-----------------------------------------------balcao-----------------------------------------------\n",
      "%%%%%%%%%%%%%%%%%%%%%%%%%%%%%%%%%%%%%%%%%%%%%%%%%%\n",
      "(LPid: balcao T(45.47259597965628)\n",
      " fila:[(t=56.024099658061104,tgt=balcao,action=pagar), (t=48.51850717164982,tgt=balcao,action=pagar)]\n",
      " p-passo:[(t=17.114019891151333,tgt=clinica,action=consultar), (t=94.15758431266781,tgt=__sync__,action=__stop__)])\n",
      "\n",
      "%%%%%%%%%%%%%%%%%%%%%%%%%%%%%%%%%%%%%%%%%%%%%%%%%%\n",
      "(LPid: balcao T(48.51850717164982)\n",
      " fila:[(t=56.024099658061104,tgt=balcao,action=pagar), (t=48.51850717164982,tgt=balcao,action=pagar)]\n",
      " p-passo:[(t=17.114019891151333,tgt=clinica,action=consultar)])\n",
      "\n",
      "----------------------------------------------clinica-----------------------------------------------\n",
      "%%%%%%%%%%%%%%%%%%%%%%%%%%%%%%%%%%%%%%%%%%%%%%%%%%\n",
      "(LPid: clinica T(45.47259597965628)\n",
      " fila:[]\n",
      " p-passo:[])\n",
      "\n",
      "%%%%%%%%%%%%%%%%%%%%%%%%%%%%%%%%%%%%%%%%%%%%%%%%%%\n",
      "(LPid: clinica T(45.47259597965628)\n",
      " fila:[]\n",
      " p-passo:[])\n",
      "\n",
      "----------------------------------------------__sync__----------------------------------------------\n",
      "%%%%%%%%%%%%%%%%%%%%%%%%%%%%%%%%%%%%%%%%%%%%%%%%%%\n",
      "(LPid: __sync__ T(91.11939972885409)\n",
      " fila:[(t=94.15758431266781,tgt=__sync__,action=__stop__), (t=91.11939972885409,tgt=__sync__,action=__stop__)]\n",
      " p-passo:[])\n",
      "\n",
      "%%%%%%%%%%%%%%%%%%%%%%%%%%%%%%%%%%%%%%%%%%%%%%%%%%\n",
      "(LPid: __sync__ T(91.11939972885409)\n",
      " fila:[(t=94.15758431266781,tgt=__sync__,action=__stop__), (t=91.11939972885409,tgt=__sync__,action=__stop__)]\n",
      " p-passo:[])\n",
      "\n",
      "*************************************************5**************************************************\n",
      "----------------------------------------------__src__-----------------------------------------------\n",
      "%%%%%%%%%%%%%%%%%%%%%%%%%%%%%%%%%%%%%%%%%%%%%%%%%%\n",
      "(LPid: __src__ T(2.3411369963135433)\n",
      " fila:[]\n",
      " p-passo:[])\n",
      "\n",
      "%%%%%%%%%%%%%%%%%%%%%%%%%%%%%%%%%%%%%%%%%%%%%%%%%%\n",
      "(LPid: __src__ T(2.3411369963135433)\n",
      " fila:[]\n",
      " p-passo:[])\n",
      "\n",
      "-----------------------------------------------balcao-----------------------------------------------\n",
      "%%%%%%%%%%%%%%%%%%%%%%%%%%%%%%%%%%%%%%%%%%%%%%%%%%\n",
      "(LPid: balcao T(48.51850717164982)\n",
      " fila:[(t=56.024099658061104,tgt=balcao,action=pagar)]\n",
      " p-passo:[(t=17.114019891151333,tgt=clinica,action=consultar), (t=100.16375439942792,tgt=__sync__,action=__stop__)])\n",
      "\n",
      "%%%%%%%%%%%%%%%%%%%%%%%%%%%%%%%%%%%%%%%%%%%%%%%%%%\n",
      "(LPid: balcao T(56.024099658061104)\n",
      " fila:[(t=56.024099658061104,tgt=balcao,action=pagar)]\n",
      " p-passo:[(t=17.114019891151333,tgt=clinica,action=consultar)])\n",
      "\n",
      "----------------------------------------------clinica-----------------------------------------------\n",
      "%%%%%%%%%%%%%%%%%%%%%%%%%%%%%%%%%%%%%%%%%%%%%%%%%%\n",
      "(LPid: clinica T(45.47259597965628)\n",
      " fila:[]\n",
      " p-passo:[])\n",
      "\n",
      "%%%%%%%%%%%%%%%%%%%%%%%%%%%%%%%%%%%%%%%%%%%%%%%%%%\n",
      "(LPid: clinica T(45.47259597965628)\n",
      " fila:[]\n",
      " p-passo:[])\n",
      "\n",
      "----------------------------------------------__sync__----------------------------------------------\n",
      "%%%%%%%%%%%%%%%%%%%%%%%%%%%%%%%%%%%%%%%%%%%%%%%%%%\n",
      "(LPid: __sync__ T(91.11939972885409)\n",
      " fila:[(t=100.16375439942792,tgt=__sync__,action=__stop__), (t=94.15758431266781,tgt=__sync__,action=__stop__), (t=91.11939972885409,tgt=__sync__,action=__stop__)]\n",
      " p-passo:[])\n",
      "\n",
      "%%%%%%%%%%%%%%%%%%%%%%%%%%%%%%%%%%%%%%%%%%%%%%%%%%\n",
      "(LPid: __sync__ T(91.11939972885409)\n",
      " fila:[(t=100.16375439942792,tgt=__sync__,action=__stop__), (t=94.15758431266781,tgt=__sync__,action=__stop__), (t=91.11939972885409,tgt=__sync__,action=__stop__)]\n",
      " p-passo:[])\n",
      "\n",
      "*************************************************6**************************************************\n",
      "----------------------------------------------__src__-----------------------------------------------\n",
      "%%%%%%%%%%%%%%%%%%%%%%%%%%%%%%%%%%%%%%%%%%%%%%%%%%\n",
      "(LPid: __src__ T(2.3411369963135433)\n",
      " fila:[]\n",
      " p-passo:[])\n",
      "\n",
      "%%%%%%%%%%%%%%%%%%%%%%%%%%%%%%%%%%%%%%%%%%%%%%%%%%\n",
      "(LPid: __src__ T(2.3411369963135433)\n",
      " fila:[]\n",
      " p-passo:[])\n",
      "\n",
      "-----------------------------------------------balcao-----------------------------------------------\n",
      "%%%%%%%%%%%%%%%%%%%%%%%%%%%%%%%%%%%%%%%%%%%%%%%%%%\n",
      "(LPid: balcao T(56.024099658061104)\n",
      " fila:[]\n",
      " p-passo:[(t=17.114019891151333,tgt=clinica,action=consultar), (t=114.0887373867346,tgt=__sync__,action=__stop__)])\n",
      "\n",
      "%%%%%%%%%%%%%%%%%%%%%%%%%%%%%%%%%%%%%%%%%%%%%%%%%%\n",
      "(LPid: balcao T(17.114019891151333)\n",
      " fila:[]\n",
      " p-passo:[])\n",
      "\n",
      "----------------------------------------------clinica-----------------------------------------------\n",
      "%%%%%%%%%%%%%%%%%%%%%%%%%%%%%%%%%%%%%%%%%%%%%%%%%%\n",
      "(LPid: clinica T(17.114019891151333)\n",
      " fila:[]\n",
      " p-passo:[(t=58.050890519006614,tgt=balcao,action=pagar)])\n",
      "\n",
      "%%%%%%%%%%%%%%%%%%%%%%%%%%%%%%%%%%%%%%%%%%%%%%%%%%\n",
      "(LPid: clinica T(58.050890519006614)\n",
      " fila:[]\n",
      " p-passo:[])\n",
      "\n",
      "----------------------------------------------__sync__----------------------------------------------\n",
      "%%%%%%%%%%%%%%%%%%%%%%%%%%%%%%%%%%%%%%%%%%%%%%%%%%\n",
      "(LPid: __sync__ T(91.11939972885409)\n",
      " fila:[(t=114.0887373867346,tgt=__sync__,action=__stop__), (t=100.16375439942792,tgt=__sync__,action=__stop__), (t=94.15758431266781,tgt=__sync__,action=__stop__), (t=91.11939972885409,tgt=__sync__,action=__stop__)]\n",
      " p-passo:[])\n",
      "\n",
      "%%%%%%%%%%%%%%%%%%%%%%%%%%%%%%%%%%%%%%%%%%%%%%%%%%\n",
      "(LPid: __sync__ T(91.11939972885409)\n",
      " fila:[(t=114.0887373867346,tgt=__sync__,action=__stop__), (t=100.16375439942792,tgt=__sync__,action=__stop__), (t=94.15758431266781,tgt=__sync__,action=__stop__), (t=91.11939972885409,tgt=__sync__,action=__stop__)]\n",
      " p-passo:[])\n",
      "\n",
      "*************************************************7**************************************************\n",
      "----------------------------------------------__src__-----------------------------------------------\n",
      "%%%%%%%%%%%%%%%%%%%%%%%%%%%%%%%%%%%%%%%%%%%%%%%%%%\n",
      "(LPid: __src__ T(2.3411369963135433)\n",
      " fila:[]\n",
      " p-passo:[])\n",
      "\n",
      "%%%%%%%%%%%%%%%%%%%%%%%%%%%%%%%%%%%%%%%%%%%%%%%%%%\n",
      "(LPid: __src__ T(2.3411369963135433)\n",
      " fila:[]\n",
      " p-passo:[])\n",
      "\n",
      "-----------------------------------------------balcao-----------------------------------------------\n",
      "%%%%%%%%%%%%%%%%%%%%%%%%%%%%%%%%%%%%%%%%%%%%%%%%%%\n",
      "(LPid: balcao T(58.050890519006614)\n",
      " fila:[]\n",
      " p-passo:[(t=119.85212425677558,tgt=__sync__,action=__stop__)])\n",
      "\n",
      "%%%%%%%%%%%%%%%%%%%%%%%%%%%%%%%%%%%%%%%%%%%%%%%%%%\n",
      "(LPid: balcao T(119.85212425677558)\n",
      " fila:[]\n",
      " p-passo:[])\n",
      "\n",
      "----------------------------------------------clinica-----------------------------------------------\n",
      "%%%%%%%%%%%%%%%%%%%%%%%%%%%%%%%%%%%%%%%%%%%%%%%%%%\n",
      "(LPid: clinica T(58.050890519006614)\n",
      " fila:[]\n",
      " p-passo:[])\n",
      "\n",
      "%%%%%%%%%%%%%%%%%%%%%%%%%%%%%%%%%%%%%%%%%%%%%%%%%%\n",
      "(LPid: clinica T(58.050890519006614)\n",
      " fila:[]\n",
      " p-passo:[])\n",
      "\n",
      "----------------------------------------------__sync__----------------------------------------------\n",
      "%%%%%%%%%%%%%%%%%%%%%%%%%%%%%%%%%%%%%%%%%%%%%%%%%%\n",
      "(LPid: __sync__ T(91.11939972885409)\n",
      " fila:[(t=119.85212425677558,tgt=__sync__,action=__stop__), (t=114.0887373867346,tgt=__sync__,action=__stop__), (t=100.16375439942792,tgt=__sync__,action=__stop__), (t=94.15758431266781,tgt=__sync__,action=__stop__), (t=91.11939972885409,tgt=__sync__,action=__stop__)]\n",
      " p-passo:[])\n",
      "\n",
      "%%%%%%%%%%%%%%%%%%%%%%%%%%%%%%%%%%%%%%%%%%%%%%%%%%\n",
      "(LPid: __sync__ T(91.11939972885409)\n",
      " fila:[(t=119.85212425677558,tgt=__sync__,action=__stop__), (t=114.0887373867346,tgt=__sync__,action=__stop__), (t=100.16375439942792,tgt=__sync__,action=__stop__), (t=94.15758431266781,tgt=__sync__,action=__stop__), (t=91.11939972885409,tgt=__sync__,action=__stop__)]\n",
      " p-passo:[])\n",
      "\n"
     ]
    }
   ],
   "source": [
    "sim.start(5)"
   ]
  },
  {
   "cell_type": "markdown",
   "metadata": {},
   "source": [
    "Por fim, este é o resultado da simulação:"
   ]
  },
  {
   "cell_type": "code",
   "execution_count": 33,
   "metadata": {},
   "outputs": [
    {
     "name": "stdout",
     "output_type": "stream",
     "text": [
      "LP:__src__\n",
      "(LPid: __src__ T(2.3411369963135433)\n",
      " fila:[]\n",
      " p-passo:[])\n",
      "\n",
      "Routes:\n",
      " __start__: balcao - fichar\n",
      "\n",
      "LP:balcao\n",
      "(LPid: balcao T(119.85212425677558)\n",
      " fila:[]\n",
      " p-passo:[])\n",
      "\n",
      "Routes:\n",
      " fichar: clinica - consultar\n",
      " pagar: __sync__ - __stop__\n",
      "\n",
      "LP:clinica\n",
      "(LPid: clinica T(58.050890519006614)\n",
      " fila:[]\n",
      " p-passo:[])\n",
      "\n",
      "Routes:\n",
      " consultar: balcao - pagar\n",
      "\n",
      "LP:__sync__\n",
      "(LPid: __sync__ T(91.11939972885409)\n",
      " fila:[(t=119.85212425677558,tgt=__sync__,action=__stop__), (t=114.0887373867346,tgt=__sync__,action=__stop__), (t=100.16375439942792,tgt=__sync__,action=__stop__), (t=94.15758431266781,tgt=__sync__,action=__stop__), (t=91.11939972885409,tgt=__sync__,action=__stop__)]\n",
      " p-passo:[])\n",
      "\n",
      "Routes:\n",
      "\n"
     ]
    }
   ],
   "source": [
    "sim.log()"
   ]
  },
  {
   "cell_type": "markdown",
   "metadata": {},
   "source": [
    "Com paralelismo:"
   ]
  },
  {
   "cell_type": "code",
   "execution_count": 35,
   "metadata": {},
   "outputs": [],
   "source": [
    "from threading import Lock #bloqueios mutex\n",
    "import concurrent.futures #threads\n",
    "\n",
    "mutex = Lock()"
   ]
  },
  {
   "cell_type": "code",
   "execution_count": 44,
   "metadata": {},
   "outputs": [],
   "source": [
    "tempo_global=0\n",
    "def protectedPrint(s):\n",
    "    mutex.acquire()\n",
    "    try:\n",
    "        print(s)\n",
    "    finally:\n",
    "        mutex.release\n",
    "class Simulation:\n",
    "    def __init__ (self,entidades,operacoes,entradas=None,classes=8):\n",
    "#         tempo_global=0 #Menor tempo global\n",
    "        \n",
    "        self.lps=dict()\n",
    "        # cria os processadores lógicos e já carrega a configuracao de tempo\n",
    "        for entidade in entidades:\n",
    "            lpid,serv,action,tmin,tmax = entidade\n",
    "            lp = None\n",
    "            try: #se já existir adiciona acoes à classe\n",
    "                lp = self.lps[lpid]\n",
    "            except:\n",
    "                lp = LogicalProcess(lpid,serv)\n",
    "            \n",
    "            if(entradas == None or action==\"__stop__\"):\n",
    "                lp.set_timer(action,GenRand(tmin,tmax))\n",
    "            elif classes==0: # Se Classes == 0 irá simular conforme os tempos do arquivo\n",
    "                lp.set_timer(action,Replay(entradas.get_col(action)))\n",
    "            else: # Gera tempos por monte carlo\n",
    "                lp.set_timer(action,MonteCarlo(classes,entradas.get_col(action)))\n",
    "                    \n",
    "            self.lps.update({lpid:lp})\n",
    "        \n",
    "        for op in operacoes: # Associa a rota dos dados\n",
    "            lpid, action, dest, naction = op\n",
    "            self.lps[lpid].set_route(action,self.lps[dest],naction) # conforme value já associa nvalue e destino\n",
    "#             entidades = \n",
    "#             self.acoes[k]=operacoes.where('LP',k)\n",
    "\n",
    "    def log(self):\n",
    "        [print(f'LP:{lp}\\n{self.lps[lp]}\\n{self.lps[lp].showRoutes()}') for lp in self.lps.keys()]\n",
    "# __init__ é o ponto de entrada\n",
    "    def start(self,n):\n",
    "                                    # Msg(time,destino,action)\n",
    "        for i in range(n): # agenda o carregamento de n entidades novas pra dentro da simulação\n",
    "            self.lps['__src__'].qeue(Msg(0,self.lps['__src__'],'__start__')) # __init__ é responsável por gerar as entidades\n",
    "        \n",
    "        self.log()\n",
    "        i = 0\n",
    "        print(self.lps.keys())\n",
    "        with concurrent.futures.ThreadPoolExecutor() as executor:\n",
    "            executor.map(self.th,self.lps.keys())\n",
    "        print(\"feito!\")\n",
    "    def th(self,lpid):\n",
    "        while len(self.lps['__sync__'].fila) != n:# and i<100: # começar limitando ciclos\n",
    "            i+=1\n",
    "            protectedPrint(str(i).center(100,'*'))\n",
    "            protectedPrint(lpid.center(100,'-'))\n",
    "            self.lps[lpid].load()\n",
    "#                 self.log()\n",
    "            protectedPrint(self.lps[lpid])\n",
    "            self.lps[lpid].run() #ciclo em cada LP\n",
    "            protectedPrint(self.lps[lpdi])\n",
    "#                 print (f'{k}\\n')\n",
    "#                 self.log()"
   ]
  },
  {
   "cell_type": "code",
   "execution_count": 45,
   "metadata": {},
   "outputs": [
    {
     "name": "stdout",
     "output_type": "stream",
     "text": [
      "LP:__src__\n",
      "(LPid: __src__ T(0)\n",
      " fila:[(t=0,tgt=__src__,action=__start__), (t=0,tgt=__src__,action=__start__), (t=0,tgt=__src__,action=__start__), (t=0,tgt=__src__,action=__start__), (t=0,tgt=__src__,action=__start__)]\n",
      " p-passo:[])\n",
      "\n",
      "Routes:\n",
      " __start__: balcao - fichar\n",
      "\n",
      "LP:balcao\n",
      "(LPid: balcao T(0)\n",
      " fila:[]\n",
      " p-passo:[])\n",
      "\n",
      "Routes:\n",
      " fichar: clinica - consultar\n",
      " pagar: __sync__ - __stop__\n",
      "\n",
      "LP:clinica\n",
      "(LPid: clinica T(0)\n",
      " fila:[]\n",
      " p-passo:[])\n",
      "\n",
      "Routes:\n",
      " consultar: balcao - pagar\n",
      "\n",
      "LP:__sync__\n",
      "(LPid: __sync__ T(0)\n",
      " fila:[]\n",
      " p-passo:[])\n",
      "\n",
      "Routes:\n",
      "\n",
      "dict_keys(['__src__', 'balcao', 'clinica', '__sync__'])\n",
      "feito!\n"
     ]
    }
   ],
   "source": [
    "sim = Simulation(entidades,operacoes)\n",
    "sim.start(5)"
   ]
  },
  {
   "cell_type": "code",
   "execution_count": null,
   "metadata": {},
   "outputs": [],
   "source": []
  }
 ],
 "metadata": {
  "kernelspec": {
   "display_name": "Python 3",
   "language": "python",
   "name": "python3"
  },
  "language_info": {
   "codemirror_mode": {
    "name": "ipython",
    "version": 3
   },
   "file_extension": ".py",
   "mimetype": "text/x-python",
   "name": "python",
   "nbconvert_exporter": "python",
   "pygments_lexer": "ipython3",
   "version": "3.8.5"
  }
 },
 "nbformat": 4,
 "nbformat_minor": 4
}
